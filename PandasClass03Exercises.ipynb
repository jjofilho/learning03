{
 "cells": [
  {
   "cell_type": "code",
   "execution_count": 1,
   "id": "b706c78d-825e-41a3-8c90-5ab17c8dfd1c",
   "metadata": {},
   "outputs": [],
   "source": [
    "import pandas as pd"
   ]
  },
  {
   "cell_type": "code",
   "execution_count": 2,
   "id": "893c27a8-737e-4440-9a81-ab522823c619",
   "metadata": {},
   "outputs": [],
   "source": [
    "# Declara uma série com gols\n",
    "gols = [23, 20, 25, 15, 18]\n",
    "serie_gols = pd.Series(gols)"
   ]
  },
  {
   "cell_type": "code",
   "execution_count": 3,
   "id": "2f2f1e3d-c9a1-4e9a-a72c-881185a47a53",
   "metadata": {},
   "outputs": [
    {
     "name": "stdout",
     "output_type": "stream",
     "text": [
      "0    23\n",
      "1    20\n",
      "2    25\n",
      "3    15\n",
      "4    18\n",
      "dtype: int64\n"
     ]
    }
   ],
   "source": [
    "print(serie_gols)"
   ]
  },
  {
   "cell_type": "code",
   "execution_count": 4,
   "id": "97b51e71-455a-4262-bf91-0af7fc5ff316",
   "metadata": {},
   "outputs": [
    {
     "name": "stdout",
     "output_type": "stream",
     "text": [
      "101\n"
     ]
    }
   ],
   "source": [
    "print(serie_gols.sum())"
   ]
  },
  {
   "cell_type": "code",
   "execution_count": 5,
   "id": "21482e5d-32fd-4c77-a1c4-4b57b2d4890b",
   "metadata": {},
   "outputs": [
    {
     "name": "stdout",
     "output_type": "stream",
     "text": [
      "101\n"
     ]
    }
   ],
   "source": [
    "total = sum(serie_gols)\n",
    "print(total)"
   ]
  },
  {
   "cell_type": "code",
   "execution_count": null,
   "id": "59ef10cc-a69a-4997-9ce1-ba28bb979aa5",
   "metadata": {},
   "outputs": [],
   "source": []
  }
 ],
 "metadata": {
  "kernelspec": {
   "display_name": "Python 3 (ipykernel)",
   "language": "python",
   "name": "python3"
  },
  "language_info": {
   "codemirror_mode": {
    "name": "ipython",
    "version": 3
   },
   "file_extension": ".py",
   "mimetype": "text/x-python",
   "name": "python",
   "nbconvert_exporter": "python",
   "pygments_lexer": "ipython3",
   "version": "3.12.0"
  }
 },
 "nbformat": 4,
 "nbformat_minor": 5
}
