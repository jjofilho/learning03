{
 "cells": [
  {
   "cell_type": "code",
   "execution_count": 1,
   "id": "7aaace77-5a7f-4593-9e64-2ba1f06f9452",
   "metadata": {},
   "outputs": [],
   "source": [
    "import pandas as pd"
   ]
  },
  {
   "cell_type": "code",
   "execution_count": 2,
   "id": "2b12e3d4-c6a3-42bb-ada6-462b69c235ec",
   "metadata": {},
   "outputs": [],
   "source": [
    "# Carrega arquivo CSV para análises, 3ª tentativa de dataframe diferente, colocando o arquivo CSV dentro do repositório learning03\n",
    "musicas = pd.read_csv('./bandas.csv')"
   ]
  },
  {
   "cell_type": "code",
   "execution_count": 3,
   "id": "5711a600-6d93-42e4-8ba1-c321ca7ff65f",
   "metadata": {},
   "outputs": [
    {
     "data": {
      "text/html": [
       "<div>\n",
       "<style scoped>\n",
       "    .dataframe tbody tr th:only-of-type {\n",
       "        vertical-align: middle;\n",
       "    }\n",
       "\n",
       "    .dataframe tbody tr th {\n",
       "        vertical-align: top;\n",
       "    }\n",
       "\n",
       "    .dataframe thead th {\n",
       "        text-align: right;\n",
       "    }\n",
       "</style>\n",
       "<table border=\"1\" class=\"dataframe\">\n",
       "  <thead>\n",
       "    <tr style=\"text-align: right;\">\n",
       "      <th></th>\n",
       "      <th>musica</th>\n",
       "      <th>artista</th>\n",
       "      <th>ano de lancamento</th>\n",
       "      <th>nome completo</th>\n",
       "    </tr>\n",
       "  </thead>\n",
       "  <tbody>\n",
       "    <tr>\n",
       "      <th>0</th>\n",
       "      <td>Radioactive</td>\n",
       "      <td>Imagine Dragons</td>\n",
       "      <td>2012</td>\n",
       "      <td>Radioactive by Imagine Dragons</td>\n",
       "    </tr>\n",
       "    <tr>\n",
       "      <th>1</th>\n",
       "      <td>Good Vibrations</td>\n",
       "      <td>The Beach Boys</td>\n",
       "      <td>1966</td>\n",
       "      <td>Good Vibrations by The Beach Boys</td>\n",
       "    </tr>\n",
       "    <tr>\n",
       "      <th>2</th>\n",
       "      <td>A Day In The Life</td>\n",
       "      <td>The Beatles</td>\n",
       "      <td>1967</td>\n",
       "      <td>A Day In The Life by The Beatles</td>\n",
       "    </tr>\n",
       "    <tr>\n",
       "      <th>3</th>\n",
       "      <td>Message In A Bottle</td>\n",
       "      <td>The Police</td>\n",
       "      <td>1979</td>\n",
       "      <td>Message In A Bottle by The Police</td>\n",
       "    </tr>\n",
       "    <tr>\n",
       "      <th>4</th>\n",
       "      <td>Seven Nation Army</td>\n",
       "      <td>The White Stripes</td>\n",
       "      <td>2003</td>\n",
       "      <td>Seven Nation Army by The White Stripes</td>\n",
       "    </tr>\n",
       "  </tbody>\n",
       "</table>\n",
       "</div>"
      ],
      "text/plain": [
       "                musica            artista  ano de lancamento  \\\n",
       "0          Radioactive    Imagine Dragons               2012   \n",
       "1      Good Vibrations     The Beach Boys               1966   \n",
       "2    A Day In The Life        The Beatles               1967   \n",
       "3  Message In A Bottle         The Police               1979   \n",
       "4    Seven Nation Army  The White Stripes               2003   \n",
       "\n",
       "                            nome completo  \n",
       "0          Radioactive by Imagine Dragons  \n",
       "1       Good Vibrations by The Beach Boys  \n",
       "2        A Day In The Life by The Beatles  \n",
       "3       Message In A Bottle by The Police  \n",
       "4  Seven Nation Army by The White Stripes  "
      ]
     },
     "execution_count": 3,
     "metadata": {},
     "output_type": "execute_result"
    }
   ],
   "source": [
    "musicas.head()"
   ]
  },
  {
   "cell_type": "code",
   "execution_count": 4,
   "id": "3dc4d33e-0ab4-42a5-b497-39b52b7c37aa",
   "metadata": {},
   "outputs": [
    {
     "data": {
      "text/plain": [
       "ano de lancamento\n",
       "2012    1\n",
       "1966    1\n",
       "1967    1\n",
       "1979    1\n",
       "2003    1\n",
       "1978    1\n",
       "2011    1\n",
       "1991    1\n",
       "2004    1\n",
       "Name: count, dtype: int64"
      ]
     },
     "execution_count": 4,
     "metadata": {},
     "output_type": "execute_result"
    }
   ],
   "source": [
    "musicas['ano de lancamento'].value_counts()"
   ]
  },
  {
   "cell_type": "code",
   "execution_count": null,
   "id": "3af661a5-1712-40b3-974a-7b52dcc6fd09",
   "metadata": {},
   "outputs": [],
   "source": []
  }
 ],
 "metadata": {
  "kernelspec": {
   "display_name": "Python 3 (ipykernel)",
   "language": "python",
   "name": "python3"
  },
  "language_info": {
   "codemirror_mode": {
    "name": "ipython",
    "version": 3
   },
   "file_extension": ".py",
   "mimetype": "text/x-python",
   "name": "python",
   "nbconvert_exporter": "python",
   "pygments_lexer": "ipython3",
   "version": "3.12.0"
  }
 },
 "nbformat": 4,
 "nbformat_minor": 5
}
