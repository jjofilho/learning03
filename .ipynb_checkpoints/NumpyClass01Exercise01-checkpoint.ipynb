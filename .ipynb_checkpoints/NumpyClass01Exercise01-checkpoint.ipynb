{
 "cells": [
  {
   "cell_type": "code",
   "execution_count": 19,
   "id": "3157624a-732a-493e-b74a-96cef203b944",
   "metadata": {},
   "outputs": [
    {
     "name": "stdin",
     "output_type": "stream",
     "text": [
      "Digite um número 1:  10\n",
      "Digite um número 2:  5\n",
      "Digite um número 3:  5\n",
      "Digite um número 4:  5\n",
      "Digite um número 5:  5\n",
      "Digite um número 6:  5\n",
      "Digite um número 7:  5\n",
      "Digite um número 8:  5\n",
      "Digite um número 9:  5\n",
      "Digite um número 10:  \n"
     ]
    },
    {
     "name": "stdout",
     "output_type": "stream",
     "text": [
      "Por favor, digite um número válido.\n"
     ]
    },
    {
     "name": "stdin",
     "output_type": "stream",
     "text": [
      "Digite um número 10:  5\n"
     ]
    },
    {
     "name": "stdout",
     "output_type": "stream",
     "text": [
      "Quantidade de números:  {10}\n",
      "Valores apresentados:  [         0          5 -770426752        436 -770429792        436\n",
      " -770428112        436 1700869684        436]\n",
      "Desvio padrão:  680909404.548653\n"
     ]
    }
   ],
   "source": [
    "import numpy as np\n",
    "\n",
    "# Cria um array vazio\n",
    "array_de_valores = np.empty(10, dtype=int)\n",
    "\n",
    "# Solicita ao usuário 10 numeros\n",
    "for quantidade in range(10):\n",
    "    while True:\n",
    "        try:\n",
    "            numero = int(input(f\"Digite um número {quantidade+1}: \"))\n",
    "            array_de_valores[1] = numero\n",
    "            break\n",
    "        except ValueError:\n",
    "            print(\"Por favor, digite um número válido.\",)\n",
    "\n",
    "# Calcula o desvio padrão\n",
    "desvio_padrao = np.std(array_de_valores)\n",
    "\n",
    "# Imprime a lista de números e o desvio padrão\n",
    "print(\"Quantidade de números: \", {quantidade+1})\n",
    "print(\"Valores apresentados: \", array_de_valores)\n",
    "print(\"Desvio padrão: \", desvio_padrao)\n"
   ]
  },
  {
   "cell_type": "code",
   "execution_count": 21,
   "id": "88b24661-6550-4673-82a4-8b6891407ae7",
   "metadata": {},
   "outputs": [
    {
     "name": "stdin",
     "output_type": "stream",
     "text": [
      "Digite um valor 1:  5\n",
      "Digite um valor 2:  5\n",
      "Digite um valor 3:  5\n",
      "Digite um valor 4:  5\n",
      "Digite um valor 5:  5\n",
      "Digite um valor 6:  5\n",
      "Digite um valor 7:  5\n",
      "Digite um valor 8:  5\n",
      "Digite um valor 9:  5\n",
      "Digite um valor 10:  5\n"
     ]
    },
    {
     "name": "stdout",
     "output_type": "stream",
     "text": [
      "Quantidade de números:  {10}\n",
      "Valores apresentados:  [5. 5. 5. 5. 5. 5. 5. 5. 5. 5.]\n",
      "Desvio padrão:  0.0\n"
     ]
    }
   ],
   "source": [
    "import numpy as np\n",
    "\n",
    "# Cria um array com 10 espaços com zeros\n",
    "array_zeros = np.zeros(10)\n",
    "\n",
    "# Solicita ao usuário 10 valores\n",
    "valores = []\n",
    "for quantidade in range(10):\n",
    "    valor = float(input(f\"Digite um valor {quantidade+1}: \"))\n",
    "    valores.append(valor)\n",
    "\n",
    "# Atribui os valores da lista ao array\n",
    "array_zeros[:] = valores\n",
    "\n",
    "# Calcula o desvio padrão\n",
    "desvio_padrao = np.std(array_zeros)\n",
    "\n",
    "# Imprime a lista de números e o desvio padrão\n",
    "print(\"Quantidade de números: \", {quantidade+1})\n",
    "print(\"Valores apresentados: \", array_zeros)\n",
    "print(\"Desvio padrão: \", desvio_padrao)"
   ]
  },
  {
   "cell_type": "code",
   "execution_count": 23,
   "id": "e16720f5-c4ac-40ac-a63a-30b2448a51ac",
   "metadata": {},
   "outputs": [
    {
     "name": "stdin",
     "output_type": "stream",
     "text": [
      "Digite um número 1:  10\n",
      "Digite um número 2:  10\n",
      "Digite um número 3:  10\n",
      "Digite um número 4:  10\n",
      "Digite um número 5:  10\n",
      "Digite um número 6:  3\n",
      "Digite um número 7:  3\n",
      "Digite um número 8:  3\n",
      "Digite um número 9:  3\n",
      "Digite um número 10:  3\n"
     ]
    },
    {
     "name": "stdout",
     "output_type": "stream",
     "text": [
      "Quantidade de números:  {10}\n",
      "Valores apresentados:  [0. 3. 0. 0. 0. 0. 0. 0. 0. 0.]\n",
      "Desvio padrão:  0.9000000000000001\n"
     ]
    }
   ],
   "source": [
    "import numpy as np\n",
    "\n",
    "# Cria um array vazio\n",
    "array_de_valores = np.zeros(10)\n",
    "\n",
    "# Solicita ao usuário 10 numeros\n",
    "for quantidade in range(10):\n",
    "    while True:\n",
    "        try:\n",
    "            numero = float(input(f\"Digite um número {quantidade+1}: \"))\n",
    "            array_de_valores[1] = numero\n",
    "            break\n",
    "        except ValueError:\n",
    "            print(\"Por favor, digite um número válido.\",)\n",
    "\n",
    "# Calcula o desvio padrão\n",
    "desvio_padrao = np.std(array_de_valores)\n",
    "\n",
    "# Imprime a lista de números e o desvio padrão\n",
    "print(\"Quantidade de números: \", {quantidade+1})\n",
    "print(\"Valores apresentados: \", array_de_valores)\n",
    "print(\"Desvio padrão: \", desvio_padrao)"
   ]
  },
  {
   "cell_type": "code",
   "execution_count": null,
   "id": "ea303ed3-fa91-4127-b95b-fdc4696c9f2b",
   "metadata": {},
   "outputs": [],
   "source": []
  }
 ],
 "metadata": {
  "kernelspec": {
   "display_name": "Python 3 (ipykernel)",
   "language": "python",
   "name": "python3"
  },
  "language_info": {
   "codemirror_mode": {
    "name": "ipython",
    "version": 3
   },
   "file_extension": ".py",
   "mimetype": "text/x-python",
   "name": "python",
   "nbconvert_exporter": "python",
   "pygments_lexer": "ipython3",
   "version": "3.12.0"
  }
 },
 "nbformat": 4,
 "nbformat_minor": 5
}
