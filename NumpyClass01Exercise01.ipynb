{
 "cells": [
  {
   "cell_type": "code",
   "execution_count": 1,
   "id": "3157624a-732a-493e-b74a-96cef203b944",
   "metadata": {},
   "outputs": [
    {
     "ename": "KeyboardInterrupt",
     "evalue": "Interrupted by user",
     "output_type": "error",
     "traceback": [
      "\u001b[1;31m---------------------------------------------------------------------------\u001b[0m",
      "\u001b[1;31mKeyboardInterrupt\u001b[0m                         Traceback (most recent call last)",
      "Cell \u001b[1;32mIn[1], line 10\u001b[0m\n\u001b[0;32m      8\u001b[0m \u001b[38;5;28;01mwhile\u001b[39;00m \u001b[38;5;28;01mTrue\u001b[39;00m:\n\u001b[0;32m      9\u001b[0m     \u001b[38;5;28;01mtry\u001b[39;00m:\n\u001b[1;32m---> 10\u001b[0m         numero \u001b[38;5;241m=\u001b[39m \u001b[38;5;28mint\u001b[39m(\u001b[38;5;28;43minput\u001b[39;49m\u001b[43m(\u001b[49m\u001b[38;5;124;43mf\u001b[39;49m\u001b[38;5;124;43m\"\u001b[39;49m\u001b[38;5;124;43mDigite um número \u001b[39;49m\u001b[38;5;132;43;01m{\u001b[39;49;00m\u001b[43mquantidade\u001b[49m\u001b[38;5;241;43m+\u001b[39;49m\u001b[38;5;241;43m1\u001b[39;49m\u001b[38;5;132;43;01m}\u001b[39;49;00m\u001b[38;5;124;43m: \u001b[39;49m\u001b[38;5;124;43m\"\u001b[39;49m\u001b[43m)\u001b[49m)\n\u001b[0;32m     11\u001b[0m         array_de_valores[\u001b[38;5;241m1\u001b[39m] \u001b[38;5;241m=\u001b[39m numero\n\u001b[0;32m     12\u001b[0m         \u001b[38;5;28;01mbreak\u001b[39;00m\n",
      "File \u001b[1;32mc:\\Users\\raiss\\AppData\\Local\\Programs\\Python\\Python312\\Lib\\site-packages\\ipykernel\\kernelbase.py:1282\u001b[0m, in \u001b[0;36mKernel.raw_input\u001b[1;34m(self, prompt)\u001b[0m\n\u001b[0;32m   1280\u001b[0m     msg \u001b[38;5;241m=\u001b[39m \u001b[38;5;124m\"\u001b[39m\u001b[38;5;124mraw_input was called, but this frontend does not support input requests.\u001b[39m\u001b[38;5;124m\"\u001b[39m\n\u001b[0;32m   1281\u001b[0m     \u001b[38;5;28;01mraise\u001b[39;00m StdinNotImplementedError(msg)\n\u001b[1;32m-> 1282\u001b[0m \u001b[38;5;28;01mreturn\u001b[39;00m \u001b[38;5;28;43mself\u001b[39;49m\u001b[38;5;241;43m.\u001b[39;49m\u001b[43m_input_request\u001b[49m\u001b[43m(\u001b[49m\n\u001b[0;32m   1283\u001b[0m \u001b[43m    \u001b[49m\u001b[38;5;28;43mstr\u001b[39;49m\u001b[43m(\u001b[49m\u001b[43mprompt\u001b[49m\u001b[43m)\u001b[49m\u001b[43m,\u001b[49m\n\u001b[0;32m   1284\u001b[0m \u001b[43m    \u001b[49m\u001b[38;5;28;43mself\u001b[39;49m\u001b[38;5;241;43m.\u001b[39;49m\u001b[43m_parent_ident\u001b[49m\u001b[43m[\u001b[49m\u001b[38;5;124;43m\"\u001b[39;49m\u001b[38;5;124;43mshell\u001b[39;49m\u001b[38;5;124;43m\"\u001b[39;49m\u001b[43m]\u001b[49m\u001b[43m,\u001b[49m\n\u001b[0;32m   1285\u001b[0m \u001b[43m    \u001b[49m\u001b[38;5;28;43mself\u001b[39;49m\u001b[38;5;241;43m.\u001b[39;49m\u001b[43mget_parent\u001b[49m\u001b[43m(\u001b[49m\u001b[38;5;124;43m\"\u001b[39;49m\u001b[38;5;124;43mshell\u001b[39;49m\u001b[38;5;124;43m\"\u001b[39;49m\u001b[43m)\u001b[49m\u001b[43m,\u001b[49m\n\u001b[0;32m   1286\u001b[0m \u001b[43m    \u001b[49m\u001b[43mpassword\u001b[49m\u001b[38;5;241;43m=\u001b[39;49m\u001b[38;5;28;43;01mFalse\u001b[39;49;00m\u001b[43m,\u001b[49m\n\u001b[0;32m   1287\u001b[0m \u001b[43m\u001b[49m\u001b[43m)\u001b[49m\n",
      "File \u001b[1;32mc:\\Users\\raiss\\AppData\\Local\\Programs\\Python\\Python312\\Lib\\site-packages\\ipykernel\\kernelbase.py:1325\u001b[0m, in \u001b[0;36mKernel._input_request\u001b[1;34m(self, prompt, ident, parent, password)\u001b[0m\n\u001b[0;32m   1322\u001b[0m \u001b[38;5;28;01mexcept\u001b[39;00m \u001b[38;5;167;01mKeyboardInterrupt\u001b[39;00m:\n\u001b[0;32m   1323\u001b[0m     \u001b[38;5;66;03m# re-raise KeyboardInterrupt, to truncate traceback\u001b[39;00m\n\u001b[0;32m   1324\u001b[0m     msg \u001b[38;5;241m=\u001b[39m \u001b[38;5;124m\"\u001b[39m\u001b[38;5;124mInterrupted by user\u001b[39m\u001b[38;5;124m\"\u001b[39m\n\u001b[1;32m-> 1325\u001b[0m     \u001b[38;5;28;01mraise\u001b[39;00m \u001b[38;5;167;01mKeyboardInterrupt\u001b[39;00m(msg) \u001b[38;5;28;01mfrom\u001b[39;00m \u001b[38;5;28;01mNone\u001b[39;00m\n\u001b[0;32m   1326\u001b[0m \u001b[38;5;28;01mexcept\u001b[39;00m \u001b[38;5;167;01mException\u001b[39;00m:\n\u001b[0;32m   1327\u001b[0m     \u001b[38;5;28mself\u001b[39m\u001b[38;5;241m.\u001b[39mlog\u001b[38;5;241m.\u001b[39mwarning(\u001b[38;5;124m\"\u001b[39m\u001b[38;5;124mInvalid Message:\u001b[39m\u001b[38;5;124m\"\u001b[39m, exc_info\u001b[38;5;241m=\u001b[39m\u001b[38;5;28;01mTrue\u001b[39;00m)\n",
      "\u001b[1;31mKeyboardInterrupt\u001b[0m: Interrupted by user"
     ]
    }
   ],
   "source": [
    "import numpy as np\n",
    "\n",
    "# Cria um array vazio\n",
    "array_de_valores = np.empty(10, dtype=int)\n",
    "\n",
    "# Solicita ao usuário 10 numeros\n",
    "for quantidade in range(10):\n",
    "    while True:\n",
    "        try:\n",
    "            numero = int(input(f\"Digite um número {quantidade+1}: \"))\n",
    "            array_de_valores[1] = numero\n",
    "            break\n",
    "        except ValueError:\n",
    "            print(\"Por favor, digite um número válido.\",)\n",
    "\n",
    "# Calcula o desvio padrão\n",
    "desvio_padrao = np.std(array_de_valores)\n",
    "\n",
    "# Imprime a lista de números e o desvio padrão\n",
    "print(\"Quantidade de números: \", {quantidade+1})\n",
    "print(\"Valores apresentados: \", array_de_valores)\n",
    "print(\"Desvio padrão: \", desvio_padrao)\n"
   ]
  },
  {
   "cell_type": "code",
   "execution_count": null,
   "id": "88b24661-6550-4673-82a4-8b6891407ae7",
   "metadata": {},
   "outputs": [],
   "source": [
    "import numpy as np\n",
    "\n",
    "# Cria um array com 10 espaços com zeros\n",
    "array_zeros = np.zeros(10)\n",
    "\n",
    "# Solicita ao usuário 10 valores\n",
    "valores = []\n",
    "for quantidade in range(10):\n",
    "    valor = float(input(f\"Digite um valor {quantidade+1}: \"))\n",
    "    valores.append(valor)\n",
    "\n",
    "# Atribui os valores da lista ao array\n",
    "array_zeros[:] = valores\n",
    "\n",
    "# Calcula o desvio padrão\n",
    "desvio_padrao = np.std(array_zeros)\n",
    "\n",
    "# Imprime a lista de números e o desvio padrão\n",
    "print(\"Quantidade de números: \", {quantidade+1})\n",
    "print(\"Valores apresentados: \", array_zeros)\n",
    "print(\"Desvio padrão: \", desvio_padrao)"
   ]
  },
  {
   "cell_type": "code",
   "execution_count": 2,
   "id": "e16720f5-c4ac-40ac-a63a-30b2448a51ac",
   "metadata": {},
   "outputs": [
    {
     "name": "stdout",
     "output_type": "stream",
     "text": [
      "Quantidade de números:  {10}\n",
      "Valores apresentados:  [ 0. 10.  0.  0.  0.  0.  0.  0.  0.  0.]\n",
      "Desvio padrão:  3.0\n"
     ]
    }
   ],
   "source": [
    "import numpy as np\n",
    "\n",
    "# Cria um array vazio\n",
    "array_de_valores = np.zeros(10)\n",
    "\n",
    "# Solicita ao usuário 10 numeros\n",
    "for quantidade in range(10):\n",
    "    while True:\n",
    "        try:\n",
    "            numero = float(input(f\"Digite um número {quantidade+1}: \"))\n",
    "            array_de_valores[1] = numero\n",
    "            break\n",
    "        except ValueError:\n",
    "            print(\"Por favor, digite um número válido.\",)\n",
    "\n",
    "# Calcula o desvio padrão\n",
    "desvio_padrao = np.std(array_de_valores)\n",
    "\n",
    "# Imprime a lista de números e o desvio padrão\n",
    "print(\"Quantidade de números: \", {quantidade+1})\n",
    "print(\"Valores apresentados: \", array_de_valores)\n",
    "print(\"Desvio padrão: \", desvio_padrao)"
   ]
  },
  {
   "cell_type": "code",
   "execution_count": null,
   "id": "ea303ed3-fa91-4127-b95b-fdc4696c9f2b",
   "metadata": {},
   "outputs": [],
   "source": []
  }
 ],
 "metadata": {
  "kernelspec": {
   "display_name": "Python 3 (ipykernel)",
   "language": "python",
   "name": "python3"
  },
  "language_info": {
   "codemirror_mode": {
    "name": "ipython",
    "version": 3
   },
   "file_extension": ".py",
   "mimetype": "text/x-python",
   "name": "python",
   "nbconvert_exporter": "python",
   "pygments_lexer": "ipython3",
   "version": "3.12.0"
  }
 },
 "nbformat": 4,
 "nbformat_minor": 5
}
