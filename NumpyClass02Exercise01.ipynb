{
 "cells": [
  {
   "cell_type": "code",
   "execution_count": 2,
   "id": "acf5bb18-39ae-4340-b2b4-d65b63adef42",
   "metadata": {},
   "outputs": [],
   "source": [
    "import numpy as np"
   ]
  },
  {
   "cell_type": "code",
   "execution_count": 3,
   "id": "3630ac49-f831-4f59-9915-39157fe000b2",
   "metadata": {},
   "outputs": [],
   "source": [
    "# Cria lista de notas\n",
    "lista_de_notas = [8.0,10.0,5.5,7.0,4.0]\n",
    "notas = np.array(lista_de_notas)"
   ]
  },
  {
   "cell_type": "code",
   "execution_count": 4,
   "id": "e3ec98dc-e681-4360-b7c7-269a530605ae",
   "metadata": {},
   "outputs": [],
   "source": [
    "#Cria uma boolean mask\n",
    "aprovados = notas >= 7"
   ]
  },
  {
   "cell_type": "code",
   "execution_count": 5,
   "id": "252f598f-9465-4bad-b347-62919132d13f",
   "metadata": {},
   "outputs": [
    {
     "name": "stdout",
     "output_type": "stream",
     "text": [
      "[ True  True False  True False]\n"
     ]
    }
   ],
   "source": [
    "print(aprovados)"
   ]
  },
  {
   "cell_type": "code",
   "execution_count": 9,
   "id": "f12502c8-227a-4f8b-9bfb-4a1c0d0f5322",
   "metadata": {},
   "outputs": [],
   "source": [
    "#Cria uma boolean mask com os aprovados\n",
    "aprovados = notas[notas >= 7]"
   ]
  },
  {
   "cell_type": "code",
   "execution_count": 10,
   "id": "768c0c3a-840a-40b3-a767-70a5304e0a10",
   "metadata": {},
   "outputs": [
    {
     "name": "stdout",
     "output_type": "stream",
     "text": [
      "[ 8. 10.  7.]\n"
     ]
    }
   ],
   "source": [
    "print(aprovados)"
   ]
  },
  {
   "cell_type": "code",
   "execution_count": null,
   "id": "c68e6a27-dce9-4222-b8a0-7608a307ebd0",
   "metadata": {},
   "outputs": [],
   "source": []
  }
 ],
 "metadata": {
  "kernelspec": {
   "display_name": "Python 3 (ipykernel)",
   "language": "python",
   "name": "python3"
  },
  "language_info": {
   "codemirror_mode": {
    "name": "ipython",
    "version": 3
   },
   "file_extension": ".py",
   "mimetype": "text/x-python",
   "name": "python",
   "nbconvert_exporter": "python",
   "pygments_lexer": "ipython3",
   "version": "3.12.0"
  }
 },
 "nbformat": 4,
 "nbformat_minor": 5
}
